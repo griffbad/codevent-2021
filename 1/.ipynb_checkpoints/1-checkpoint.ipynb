{
 "cells": [
  {
   "cell_type": "code",
   "execution_count": 1,
   "id": "c1e277b7-7219-407a-b1aa-4ecf435335f7",
   "metadata": {},
   "outputs": [],
   "source": [
    "import numpy as np\n",
    "\n",
    "with open('input.txt') as f:\n",
    "\tnums = f.readlines()\n",
    "\n",
    "nums = np.asarray(nums, dtype=int)\n",
    "\n",
    "tot_incs = 0\n",
    "tot_decs = 0\n",
    "\n",
    "tot_incs_3 = 0\n",
    "tot_decs_3 = 0"
   ]
  },
  {
   "cell_type": "code",
   "execution_count": 2,
   "id": "5cf0e269-c0c4-4fcf-a162-48462695d4e9",
   "metadata": {},
   "outputs": [
    {
     "name": "stdout",
     "output_type": "stream",
     "text": [
      "1711 increases, 288 decs, 2000 total\n",
      "CPU times: user 1.83 ms, sys: 4.99 ms, total: 6.82 ms\n",
      "Wall time: 1.28 ms\n"
     ]
    }
   ],
   "source": [
    "%%time\n",
    "for loc in np.arange(1, len(nums)):\n",
    "\tif nums[loc]>nums[loc-1]:\n",
    "\t\ttot_incs += 1\n",
    "\telse:\n",
    "\t\ttot_decs += 1\n",
    "print(f\"{tot_incs} increases, {tot_decs} decs, {len(nums)} total\")"
   ]
  },
  {
   "cell_type": "code",
   "execution_count": 11,
   "id": "3d7cf4c6-cd43-44c8-af03-ff7aa87b3f66",
   "metadata": {},
   "outputs": [
    {
     "name": "stdout",
     "output_type": "stream",
     "text": [
      "3485 increases, 2504 decreases\n",
      "CPU times: user 41.2 ms, sys: 2.24 ms, total: 43.4 ms\n",
      "Wall time: 41.9 ms\n"
     ]
    }
   ],
   "source": [
    "%%time\n",
    "for loc in np.arange(3, len(nums)):\n",
    "\tcurr_sum = np.sum([nums[loc-3], nums[loc-2], nums[loc-1]])\n",
    "\tnext_sum = np.sum([nums[loc-2], nums[loc-1], nums[loc]])\n",
    "\tif next_sum>curr_sum:\n",
    "\t\ttot_incs_3+=1\n",
    "\telse:\n",
    "\t\ttot_decs_3+=1\n",
    "\n",
    "print(f\"{tot_incs_3} increases, {tot_decs_3} decreases\")"
   ]
  },
  {
   "cell_type": "code",
   "execution_count": 12,
   "id": "a3a54c41-befe-498b-8efa-ef7dfd5409dd",
   "metadata": {},
   "outputs": [],
   "source": [
    "tot_incs_3 = 0\n",
    "tot_decs_3 = 0"
   ]
  },
  {
   "cell_type": "code",
   "execution_count": 13,
   "id": "839d5e36-3099-409f-a441-56eebf339cd8",
   "metadata": {},
   "outputs": [
    {
     "name": "stdout",
     "output_type": "stream",
     "text": [
      "1742 increases, 254 decreases\n",
      "CPU times: user 14.7 ms, sys: 1.58 ms, total: 16.3 ms\n",
      "Wall time: 15 ms\n"
     ]
    }
   ],
   "source": [
    "%%time\n",
    "nums_sums_3 = [sum(nums[x-3:x]) for x in np.arange(3, len(nums))]\n",
    "for loc in np.arange(1, len(nums_sums_3)):\n",
    "\tif nums_sums_3[loc]>nums_sums_3[loc-1]:\n",
    "\t\ttot_incs_3 += 1\n",
    "\telse:\n",
    "\t\ttot_decs_3 += 1\n",
    "\n",
    "print(f\"{tot_incs_3} increases, {tot_decs_3} decreases\")"
   ]
  },
  {
   "cell_type": "code",
   "execution_count": null,
   "id": "0268b996-75c1-4d78-8f23-d8d98cce825a",
   "metadata": {},
   "outputs": [],
   "source": []
  }
 ],
 "metadata": {
  "kernelspec": {
   "display_name": "Python 3 (ipykernel)",
   "language": "python",
   "name": "python3"
  },
  "language_info": {
   "codemirror_mode": {
    "name": "ipython",
    "version": 3
   },
   "file_extension": ".py",
   "mimetype": "text/x-python",
   "name": "python",
   "nbconvert_exporter": "python",
   "pygments_lexer": "ipython3",
   "version": "3.9.7"
  }
 },
 "nbformat": 4,
 "nbformat_minor": 5
}
