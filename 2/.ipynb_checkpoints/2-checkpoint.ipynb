{
 "cells": [
  {
   "cell_type": "code",
   "execution_count": 1,
   "id": "3519e00c-8fac-45e6-923e-920043f24de6",
   "metadata": {},
   "outputs": [],
   "source": [
    "import numpy as np\n",
    "from itertools import groupby, chain\n",
    "from operator import itemgetter\n",
    "\n",
    "with  open('input.txt') as f:\n",
    "\tmvmnt = f.readlines()"
   ]
  },
  {
   "cell_type": "code",
   "execution_count": 2,
   "id": "49634d25-71d5-4460-ac4c-f51697aae527",
   "metadata": {},
   "outputs": [],
   "source": [
    "depth = 0\n",
    "horiz = 0"
   ]
  },
  {
   "cell_type": "code",
   "execution_count": 79,
   "id": "707a3715-66cb-41d6-ac9c-914b9d9e5f31",
   "metadata": {},
   "outputs": [
    {
     "name": "stdout",
     "output_type": "stream",
     "text": [
      "depth: 3102726, horiz: 7400, mult: 22960172400\n",
      "CPU times: user 9.51 ms, sys: 1.77 ms, total: 11.3 ms\n",
      "Wall time: 10.8 ms\n"
     ]
    }
   ],
   "source": [
    "%%time\n",
    "all_instr = np.asarray([x.split() for x in mvmnt])\n",
    "\n",
    "for instr in all_instr:\n",
    "\tif instr[0][0] == 'f':\n",
    "\t\thoriz+=int(instr[1])\n",
    "\telif instr[0][0] == 'u':\n",
    "\t\tdepth-=int(instr[1])\n",
    "\telse:\n",
    "\t\tdepth+=int(instr[1])\n",
    "print(f\"depth: {depth}, horiz: {horiz}, mult: {depth*horiz}\")"
   ]
  },
  {
   "cell_type": "code",
   "execution_count": 86,
   "id": "f4107042-006e-4abf-927c-64d9108e3982",
   "metadata": {},
   "outputs": [
    {
     "name": "stdout",
     "output_type": "stream",
     "text": [
      "{'forward': '3\\n', 'down': '2\\n', 'up': '3\\n'}\n",
      "CPU times: user 7.1 ms, sys: 488 µs, total: 7.59 ms\n",
      "Wall time: 7.51 ms\n"
     ]
    }
   ],
   "source": [
    "%%time\n",
    "larg = np.asarray(' '.join(mvmnt).split(' '))\n",
    "names = larg[0::2]\n",
    "vals = larg[1::2]\n",
    "vals = np.asarray(' '.join(vals).replace('\\n','').split(), dtype=int)\n",
    "# print(vals)\n",
    "# print(list(zip(names, vals)))\n",
    "dict(zip(names, vals))\n",
    "i = iter(larg)\n",
    "b = dict(zip(i, i))\n",
    "print(b)"
   ]
  },
  {
   "cell_type": "code",
   "execution_count": 4,
   "id": "e02cfe34-c03a-47dd-8af7-967a417557fc",
   "metadata": {},
   "outputs": [],
   "source": [
    "depth = 0\n",
    "horiz = 0\n",
    "aim = 0"
   ]
  },
  {
   "cell_type": "code",
   "execution_count": 8,
   "id": "2a35454d-882e-486a-976d-43e640df6d88",
   "metadata": {},
   "outputs": [
    {
     "name": "stdout",
     "output_type": "stream",
     "text": [
      "depth: 3101799, horiz: 5550, mult: 17214984450\n",
      "CPU times: user 7.02 ms, sys: 725 µs, total: 7.74 ms\n",
      "Wall time: 7.48 ms\n"
     ]
    }
   ],
   "source": [
    "%%time\n",
    "for instr in all_instr:\n",
    "\tif instr[0][0]=='f':\n",
    "\t\thoriz+=int(instr[1])\n",
    "\t\tdepth+=int(instr[1])*aim\n",
    "\telif instr[0][0] == 'u':\n",
    "\t\taim-=int(instr[1])\n",
    "\telse:\n",
    "\t\taim+=int(instr[1])\n",
    "\n",
    "print(f\"depth: {depth}, horiz: {horiz}, mult: {depth*horiz}\")"
   ]
  },
  {
   "cell_type": "code",
   "execution_count": null,
   "id": "80de6451-03bb-41c1-860f-5a6950f886ec",
   "metadata": {},
   "outputs": [],
   "source": []
  }
 ],
 "metadata": {
  "kernelspec": {
   "display_name": "Python 3 (ipykernel)",
   "language": "python",
   "name": "python3"
  },
  "language_info": {
   "codemirror_mode": {
    "name": "ipython",
    "version": 3
   },
   "file_extension": ".py",
   "mimetype": "text/x-python",
   "name": "python",
   "nbconvert_exporter": "python",
   "pygments_lexer": "ipython3",
   "version": "3.9.7"
  }
 },
 "nbformat": 4,
 "nbformat_minor": 5
}
